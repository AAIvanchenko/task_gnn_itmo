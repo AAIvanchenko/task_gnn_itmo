{
 "cells": [
  {
   "cell_type": "code",
   "execution_count": 1,
   "metadata": {},
   "outputs": [],
   "source": [
    "import networkx as nx\n",
    "import pandas as pd\n",
    "import numpy as np\n",
    "from collections import defaultdict\n",
    "\n",
    "from sklearn.model_selection import train_test_split\n",
    "from sklearn.svm import SVC\n",
    "from sklearn.model_selection import GridSearchCV \n",
    "from sklearn.metrics import classification_report"
   ]
  },
  {
   "cell_type": "markdown",
   "metadata": {},
   "source": [
    "# Задача 1"
   ]
  },
  {
   "cell_type": "markdown",
   "metadata": {},
   "source": [
    "# Данные\n",
    "\n",
    "**Поля:**\n",
    "Каждая строка данного файла представляет собой граф с:\n",
    "\n",
    "*node_feat*: узлы\n",
    "\n",
    "*edge_index*: пары узлов, образующих ребра\n",
    "\n",
    "*edge_attr* (список: #ребра x #элементы-ребра): для вышеупомянутых ребер содержит их элементы\n",
    "\n",
    "*y* : содержит количество меток, доступных для прогнозирования (здесь 1, равно нулю или единице)\n",
    "\n",
    "*num_nodes* : количество узлов графа\n",
    "\n",
    "\n",
    "**Краткое описание набора данных**\n",
    "Набор данных по СПИДу - это набор данных, содержащий соединения, проверенные на наличие признаков активности против ВИЧ.\n",
    "\n",
    "Ссылка на данные: https://huggingface.co/datasets/graphs-datasets/AIDS"
   ]
  },
  {
   "cell_type": "code",
   "execution_count": 3,
   "metadata": {},
   "outputs": [
    {
     "data": {
      "text/html": [
       "<div>\n",
       "<style scoped>\n",
       "    .dataframe tbody tr th:only-of-type {\n",
       "        vertical-align: middle;\n",
       "    }\n",
       "\n",
       "    .dataframe tbody tr th {\n",
       "        vertical-align: top;\n",
       "    }\n",
       "\n",
       "    .dataframe thead th {\n",
       "        text-align: right;\n",
       "    }\n",
       "</style>\n",
       "<table border=\"1\" class=\"dataframe\">\n",
       "  <thead>\n",
       "    <tr style=\"text-align: right;\">\n",
       "      <th></th>\n",
       "      <th>edge_index</th>\n",
       "      <th>node_feat</th>\n",
       "      <th>edge_attr</th>\n",
       "      <th>y</th>\n",
       "      <th>num_nodes</th>\n",
       "    </tr>\n",
       "  </thead>\n",
       "  <tbody>\n",
       "    <tr>\n",
       "      <th>0</th>\n",
       "      <td>[[0, 0, 1, 1, 1, 2, 2, 2, 3, 3, 3, 4, 4, 4, 5,...</td>\n",
       "      <td>[[1.0, 0.0, 0.0, 0.0, 0.0, 0.0, 0.0, 0.0, 0.0,...</td>\n",
       "      <td>[[1.0, 0.0, 0.0], [0.0, 1.0, 0.0], [1.0, 0.0, ...</td>\n",
       "      <td>[0]</td>\n",
       "      <td>47</td>\n",
       "    </tr>\n",
       "    <tr>\n",
       "      <th>1</th>\n",
       "      <td>[[0, 0, 1, 1, 1, 2, 2, 3, 3, 3, 4, 4, 4, 4, 5,...</td>\n",
       "      <td>[[0.0, 0.0, 1.0, 0.0, 0.0, 0.0, 0.0, 0.0, 0.0,...</td>\n",
       "      <td>[[1.0, 0.0, 0.0], [1.0, 0.0, 0.0], [1.0, 0.0, ...</td>\n",
       "      <td>[1]</td>\n",
       "      <td>11</td>\n",
       "    </tr>\n",
       "    <tr>\n",
       "      <th>2</th>\n",
       "      <td>[[0, 0, 0, 1, 1, 2, 3, 3, 4, 4, 5, 6, 6, 7, 7,...</td>\n",
       "      <td>[[1.0, 0.0, 0.0, 0.0, 0.0, 0.0, 0.0, 0.0, 0.0,...</td>\n",
       "      <td>[[1.0, 0.0, 0.0], [0.0, 1.0, 0.0], [1.0, 0.0, ...</td>\n",
       "      <td>[1]</td>\n",
       "      <td>9</td>\n",
       "    </tr>\n",
       "    <tr>\n",
       "      <th>3</th>\n",
       "      <td>[[0, 1, 1, 1, 2, 2, 2, 3, 3, 3, 4, 5, 5, 6, 7,...</td>\n",
       "      <td>[[0.0, 1.0, 0.0, 0.0, 0.0, 0.0, 0.0, 0.0, 0.0,...</td>\n",
       "      <td>[[1.0, 0.0, 0.0], [1.0, 0.0, 0.0], [0.0, 1.0, ...</td>\n",
       "      <td>[1]</td>\n",
       "      <td>10</td>\n",
       "    </tr>\n",
       "    <tr>\n",
       "      <th>4</th>\n",
       "      <td>[[0, 0, 0, 1, 1, 2, 2, 2, 3, 3, 4, 4, 5, 5, 5,...</td>\n",
       "      <td>[[1.0, 0.0, 0.0, 0.0, 0.0, 0.0, 0.0, 0.0, 0.0,...</td>\n",
       "      <td>[[1.0, 0.0, 0.0], [1.0, 0.0, 0.0], [0.0, 1.0, ...</td>\n",
       "      <td>[0]</td>\n",
       "      <td>16</td>\n",
       "    </tr>\n",
       "    <tr>\n",
       "      <th>...</th>\n",
       "      <td>...</td>\n",
       "      <td>...</td>\n",
       "      <td>...</td>\n",
       "      <td>...</td>\n",
       "      <td>...</td>\n",
       "    </tr>\n",
       "    <tr>\n",
       "      <th>1995</th>\n",
       "      <td>[[0, 0, 1, 1, 1, 2, 3, 3, 3, 4, 5, 5, 5, 6, 7,...</td>\n",
       "      <td>[[1.0, 0.0, 0.0, 0.0, 0.0, 0.0, 0.0, 0.0, 0.0,...</td>\n",
       "      <td>[[1.0, 0.0, 0.0], [0.0, 1.0, 0.0], [1.0, 0.0, ...</td>\n",
       "      <td>[1]</td>\n",
       "      <td>12</td>\n",
       "    </tr>\n",
       "    <tr>\n",
       "      <th>1996</th>\n",
       "      <td>[[0, 1, 1, 1, 1, 2, 2, 3, 3, 4, 4, 5, 5, 5, 6,...</td>\n",
       "      <td>[[1.0, 0.0, 0.0, 0.0, 0.0, 0.0, 0.0, 0.0, 0.0,...</td>\n",
       "      <td>[[1.0, 0.0, 0.0], [1.0, 0.0, 0.0], [1.0, 0.0, ...</td>\n",
       "      <td>[1]</td>\n",
       "      <td>11</td>\n",
       "    </tr>\n",
       "    <tr>\n",
       "      <th>1997</th>\n",
       "      <td>[[0, 0, 1, 1, 1, 2, 2, 3, 3, 4, 4, 4, 5, 5, 6,...</td>\n",
       "      <td>[[1.0, 0.0, 0.0, 0.0, 0.0, 0.0, 0.0, 0.0, 0.0,...</td>\n",
       "      <td>[[1.0, 0.0, 0.0], [0.0, 1.0, 0.0], [1.0, 0.0, ...</td>\n",
       "      <td>[0]</td>\n",
       "      <td>40</td>\n",
       "    </tr>\n",
       "    <tr>\n",
       "      <th>1998</th>\n",
       "      <td>[[0, 0, 1, 1, 2, 2, 2, 3, 3, 3, 4, 4, 5, 5, 5,...</td>\n",
       "      <td>[[1.0, 0.0, 0.0, 0.0, 0.0, 0.0, 0.0, 0.0, 0.0,...</td>\n",
       "      <td>[[1.0, 0.0, 0.0], [0.0, 1.0, 0.0], [1.0, 0.0, ...</td>\n",
       "      <td>[0]</td>\n",
       "      <td>76</td>\n",
       "    </tr>\n",
       "    <tr>\n",
       "      <th>1999</th>\n",
       "      <td>[[0, 0, 1, 1, 1, 2, 2, 2, 3, 3, 3, 4, 5, 5, 6,...</td>\n",
       "      <td>[[1.0, 0.0, 0.0, 0.0, 0.0, 0.0, 0.0, 0.0, 0.0,...</td>\n",
       "      <td>[[1.0, 0.0, 0.0], [1.0, 0.0, 0.0], [1.0, 0.0, ...</td>\n",
       "      <td>[1]</td>\n",
       "      <td>11</td>\n",
       "    </tr>\n",
       "  </tbody>\n",
       "</table>\n",
       "<p>2000 rows × 5 columns</p>\n",
       "</div>"
      ],
      "text/plain": [
       "                                             edge_index  \\\n",
       "0     [[0, 0, 1, 1, 1, 2, 2, 2, 3, 3, 3, 4, 4, 4, 5,...   \n",
       "1     [[0, 0, 1, 1, 1, 2, 2, 3, 3, 3, 4, 4, 4, 4, 5,...   \n",
       "2     [[0, 0, 0, 1, 1, 2, 3, 3, 4, 4, 5, 6, 6, 7, 7,...   \n",
       "3     [[0, 1, 1, 1, 2, 2, 2, 3, 3, 3, 4, 5, 5, 6, 7,...   \n",
       "4     [[0, 0, 0, 1, 1, 2, 2, 2, 3, 3, 4, 4, 5, 5, 5,...   \n",
       "...                                                 ...   \n",
       "1995  [[0, 0, 1, 1, 1, 2, 3, 3, 3, 4, 5, 5, 5, 6, 7,...   \n",
       "1996  [[0, 1, 1, 1, 1, 2, 2, 3, 3, 4, 4, 5, 5, 5, 6,...   \n",
       "1997  [[0, 0, 1, 1, 1, 2, 2, 3, 3, 4, 4, 4, 5, 5, 6,...   \n",
       "1998  [[0, 0, 1, 1, 2, 2, 2, 3, 3, 3, 4, 4, 5, 5, 5,...   \n",
       "1999  [[0, 0, 1, 1, 1, 2, 2, 2, 3, 3, 3, 4, 5, 5, 6,...   \n",
       "\n",
       "                                              node_feat  \\\n",
       "0     [[1.0, 0.0, 0.0, 0.0, 0.0, 0.0, 0.0, 0.0, 0.0,...   \n",
       "1     [[0.0, 0.0, 1.0, 0.0, 0.0, 0.0, 0.0, 0.0, 0.0,...   \n",
       "2     [[1.0, 0.0, 0.0, 0.0, 0.0, 0.0, 0.0, 0.0, 0.0,...   \n",
       "3     [[0.0, 1.0, 0.0, 0.0, 0.0, 0.0, 0.0, 0.0, 0.0,...   \n",
       "4     [[1.0, 0.0, 0.0, 0.0, 0.0, 0.0, 0.0, 0.0, 0.0,...   \n",
       "...                                                 ...   \n",
       "1995  [[1.0, 0.0, 0.0, 0.0, 0.0, 0.0, 0.0, 0.0, 0.0,...   \n",
       "1996  [[1.0, 0.0, 0.0, 0.0, 0.0, 0.0, 0.0, 0.0, 0.0,...   \n",
       "1997  [[1.0, 0.0, 0.0, 0.0, 0.0, 0.0, 0.0, 0.0, 0.0,...   \n",
       "1998  [[1.0, 0.0, 0.0, 0.0, 0.0, 0.0, 0.0, 0.0, 0.0,...   \n",
       "1999  [[1.0, 0.0, 0.0, 0.0, 0.0, 0.0, 0.0, 0.0, 0.0,...   \n",
       "\n",
       "                                              edge_attr    y  num_nodes  \n",
       "0     [[1.0, 0.0, 0.0], [0.0, 1.0, 0.0], [1.0, 0.0, ...  [0]         47  \n",
       "1     [[1.0, 0.0, 0.0], [1.0, 0.0, 0.0], [1.0, 0.0, ...  [1]         11  \n",
       "2     [[1.0, 0.0, 0.0], [0.0, 1.0, 0.0], [1.0, 0.0, ...  [1]          9  \n",
       "3     [[1.0, 0.0, 0.0], [1.0, 0.0, 0.0], [0.0, 1.0, ...  [1]         10  \n",
       "4     [[1.0, 0.0, 0.0], [1.0, 0.0, 0.0], [0.0, 1.0, ...  [0]         16  \n",
       "...                                                 ...  ...        ...  \n",
       "1995  [[1.0, 0.0, 0.0], [0.0, 1.0, 0.0], [1.0, 0.0, ...  [1]         12  \n",
       "1996  [[1.0, 0.0, 0.0], [1.0, 0.0, 0.0], [1.0, 0.0, ...  [1]         11  \n",
       "1997  [[1.0, 0.0, 0.0], [0.0, 1.0, 0.0], [1.0, 0.0, ...  [0]         40  \n",
       "1998  [[1.0, 0.0, 0.0], [0.0, 1.0, 0.0], [1.0, 0.0, ...  [0]         76  \n",
       "1999  [[1.0, 0.0, 0.0], [1.0, 0.0, 0.0], [1.0, 0.0, ...  [1]         11  \n",
       "\n",
       "[2000 rows x 5 columns]"
      ]
     },
     "execution_count": 3,
     "metadata": {},
     "output_type": "execute_result"
    }
   ],
   "source": [
    "df = pd.read_parquet(\"hf://datasets/graphs-datasets/AIDS/data/full-00000-of-00001-2a1e5fb28f54a227.parquet\")\n",
    "df"
   ]
  },
  {
   "cell_type": "markdown",
   "metadata": {},
   "source": [
    "Добавим веса в графы на основе информации из столбца edge_attr. Весом будем считаться индекс признака + 1\n",
    "\n",
    "Т.е. ребро с атрибутом [1.0, 0.0, 0.0] - будет с весом 1, а ребро с атрибутом [0.0, 1.0, 0.0] - будет с весом 2 и т.п."
   ]
  },
  {
   "cell_type": "code",
   "execution_count": 4,
   "metadata": {},
   "outputs": [],
   "source": [
    "def get_weigh_graph(df: pd.DataFrame) -> list[nx.Graph]:\n",
    "    list_graphs = []\n",
    "    \n",
    "    for graph_id in df.index:\n",
    "        G = nx.Graph()\n",
    "\n",
    "        list_weighted_grah = [(start_node, end_node, feat.argmax() + 1) \n",
    "        for start_node, end_node, feat in zip(\n",
    "            df['edge_index'][graph_id][0], \n",
    "            df['edge_index'][graph_id][1], \n",
    "            df['edge_attr'][graph_id])]\n",
    "        \n",
    "        G.add_weighted_edges_from(list_weighted_grah)\n",
    "        list_graphs.append(G)\n",
    "    return list_graphs"
   ]
  },
  {
   "cell_type": "code",
   "execution_count": 5,
   "metadata": {},
   "outputs": [],
   "source": [
    "list_graphs = get_weigh_graph(df)\n",
    "y = [i[0] for i in df.y]"
   ]
  },
  {
   "cell_type": "markdown",
   "metadata": {},
   "source": [
    "Примеры графов"
   ]
  },
  {
   "cell_type": "code",
   "execution_count": 6,
   "metadata": {},
   "outputs": [
    {
     "data": {
      "image/png": "[encoded data removed]",
      "text/plain": [
       "<Figure size 640x480 with 1 Axes>"
      ]
     },
     "metadata": {},
     "output_type": "display_data"
    }
   ],
   "source": [
    "nx.draw(list_graphs[1], with_labels=True)"
   ]
  },
  {
   "cell_type": "markdown",
   "metadata": {},
   "source": [
    "## Делим данные"
   ]
  },
  {
   "cell_type": "code",
   "execution_count": 7,
   "metadata": {},
   "outputs": [],
   "source": [
    "train_graphs, test_graphs, y_train, y_test = train_test_split(list_graphs, y, test_size=0.1, stratify=y)"
   ]
  },
  {
   "cell_type": "markdown",
   "metadata": {},
   "source": [
    "# Shortest Path Kernel"
   ]
  },
  {
   "cell_type": "code",
   "execution_count": 13,
   "metadata": {},
   "outputs": [],
   "source": [
    "def graph_to_vector(G, max_length=16):\n",
    "    # считаем словарь с кротчайшими путями для каждой вершины\n",
    "    path_lengths = nx.shortest_path_length(G)\n",
    "    vector = np.zeros(max_length, dtype=int)\n",
    "\n",
    "    for _, lengths in path_lengths:\n",
    "        for length in lengths.values():\n",
    "            if length == 0:\n",
    "                continue\n",
    "            length = min(length, max_length)\n",
    "            vector[length-1] += 1\n",
    "    return vector\n",
    "\n",
    "def shortest_path_kernel(train_graphs, test_graphs, use_norm = False):\n",
    "    vectors_train = np.array([graph_to_vector(G) for G in train_graphs])\n",
    "    vectors_test = np.array([graph_to_vector(G) for G in test_graphs])\n",
    "\n",
    "    K_train = np.matmul(vectors_train, vectors_train.T)\n",
    "    K_test = np.matmul(vectors_test, vectors_train.T)\n",
    "\n",
    "    if use_norm:\n",
    "        # Нормализуем вектора\n",
    "        vectors_train_norm = np.linalg.norm(vectors_train, keepdims=True, axis=1)\n",
    "        vectors_test_norm = np.linalg.norm(vectors_test, keepdims=True, axis=1)\n",
    "        K_train = K_train / vectors_train_norm / vectors_train_norm.T\n",
    "        K_test = K_test / vectors_test_norm / vectors_train_norm.T\n",
    "\n",
    "    return K_train, K_test"
   ]
  },
  {
   "cell_type": "code",
   "execution_count": 14,
   "metadata": {},
   "outputs": [],
   "source": [
    "K_train, K_test = shortest_path_kernel(train_graphs, test_graphs, False)"
   ]
  },
  {
   "cell_type": "code",
   "execution_count": 15,
   "metadata": {},
   "outputs": [
    {
     "name": "stdout",
     "output_type": "stream",
     "text": [
      "              precision    recall  f1-score   support\n",
      "\n",
      "           0       1.00      0.95      0.97        40\n",
      "           1       0.99      1.00      0.99       160\n",
      "\n",
      "    accuracy                           0.99       200\n",
      "   macro avg       0.99      0.97      0.98       200\n",
      "weighted avg       0.99      0.99      0.99       200\n",
      "\n"
     ]
    }
   ],
   "source": [
    "param_grid = {'C': [0.1, 1, 10, 100, 1000],  \n",
    "              'gamma': [1, 0.1, 0.01, 0.001, 0.0001], \n",
    "              'kernel': ['rbf', 'precomputed']}  \n",
    "\n",
    "grid = GridSearchCV(SVC(), param_grid, refit = True) \n",
    "grid.fit(K_train, y_train)\n",
    "\n",
    "grid_predictions_not_norm = grid.predict(K_test) \n",
    "print(classification_report(y_test, grid_predictions_not_norm))"
   ]
  },
  {
   "cell_type": "markdown",
   "metadata": {},
   "source": [
    "## С использованием нормировки (косинусовое расстояние)"
   ]
  },
  {
   "attachments": {
    "image.png": {
     "image/png": "[encoded data removed]"
    }
   },
   "cell_type": "markdown",
   "metadata": {},
   "source": [
    "![image.png](attachment:image.png)"
   ]
  },
  {
   "cell_type": "code",
   "execution_count": 16,
   "metadata": {},
   "outputs": [],
   "source": [
    "K_train, K_test = shortest_path_kernel(train_graphs, test_graphs, True)"
   ]
  },
  {
   "cell_type": "code",
   "execution_count": 17,
   "metadata": {},
   "outputs": [
    {
     "name": "stdout",
     "output_type": "stream",
     "text": [
      "              precision    recall  f1-score   support\n",
      "\n",
      "           0       1.00      0.95      0.97        40\n",
      "           1       0.99      1.00      0.99       160\n",
      "\n",
      "    accuracy                           0.99       200\n",
      "   macro avg       0.99      0.97      0.98       200\n",
      "weighted avg       0.99      0.99      0.99       200\n",
      "\n"
     ]
    }
   ],
   "source": [
    "param_grid = {'C': [0.1, 1, 10, 100, 1000],  \n",
    "              'gamma': [1, 0.1, 0.01, 0.001, 0.0001], \n",
    "              'kernel': ['rbf', 'precomputed']}  \n",
    "\n",
    "grid = GridSearchCV(SVC(), param_grid, refit = True) \n",
    "grid.fit(K_train, y_train)\n",
    "\n",
    "grid_predictions_with_norm = grid.predict(K_test) \n",
    "print(classification_report(y_test, grid_predictions_with_norm)) "
   ]
  },
  {
   "cell_type": "markdown",
   "metadata": {},
   "source": [
    "# Weisfeiler-Lehman Kernel"
   ]
  },
  {
   "cell_type": "code",
   "execution_count": 11,
   "metadata": {},
   "outputs": [],
   "source": [
    "def weisfeiler_lehman_kernel(train_graphs, test_graphs, iteration=5):\n",
    "    K_train = np.zeros((len(train_graphs), len(train_graphs)))\n",
    "    K_test = np.zeros((len(test_graphs), len(train_graphs)))\n",
    "    # Список с результатами раскраски\n",
    "    train_graphs_labels = [weisfeiler_lehman_labels(G, iteration) for G in train_graphs]\n",
    "    test_graphs_labels = [weisfeiler_lehman_labels(G, iteration) for G in test_graphs]\n",
    "\n",
    "    # Вычесление каждой ячейки K_train\n",
    "    for i in range(len(train_graphs)):\n",
    "        for j in range(i, len(train_graphs)):\n",
    "            # Вычисление значения ядра\n",
    "            kernel_value = weisfeiler_lehman_kernel_value(train_graphs_labels[i], train_graphs_labels[j])\n",
    "            K_train[i, j] = kernel_value\n",
    "            # Отзеркаливаем значения ядра по диагонали\n",
    "            K_train[j, i] = kernel_value\n",
    "\n",
    "    # Вычесление каждой ячейки K_train\n",
    "    for i in range(len(test_graphs)):\n",
    "        for j in range(len(train_graphs)):\n",
    "            # Вычисление значения ядра\n",
    "            kernel_value = weisfeiler_lehman_kernel_value(test_graphs_labels[i], train_graphs_labels[j])\n",
    "            K_test[i, j] = kernel_value\n",
    "\n",
    "    return K_train, K_test\n",
    "\n",
    "def weisfeiler_lehman_labels(graph, iteration):\n",
    "    # Иницилизируем все цвета степенью вершины\n",
    "    labels = {node: str(graph.degree(node)) for node in graph.nodes()}\n",
    "\n",
    "    for _ in range(iteration):\n",
    "        # Вычислим новые цвета на основе соседей\n",
    "        new_labels = {}\n",
    "        for node in graph.nodes():\n",
    "            neighbors = graph.neighbors(node)\n",
    "            # Цвет ноды + отсортированные цвета соседних вершин\n",
    "            new_label = [labels[node]] + sorted([labels[neighbor] for neighbor in neighbors])\n",
    "            new_label = \",\".join(new_label)\n",
    "\n",
    "            # Запомним новый цвет вершины (берем хеш для экономии памяти)\n",
    "            new_labels[node] = str(hash(new_label))\n",
    "            # new_labels[node] = new_label\n",
    "        # Обновим цвета\n",
    "        labels = new_labels\n",
    "    return labels\n",
    "\n",
    "def weisfeiler_lehman_kernel_value(labels_i, labels_j):\n",
    "    # Считаем количество каждого цвета в каждом графе\n",
    "    kernel_value = 0\n",
    "    counts_i = defaultdict(int)\n",
    "    counts_j = defaultdict(int)\n",
    "    for label in labels_i.values():\n",
    "        counts_i[label] += 1\n",
    "    for label in labels_j.values():\n",
    "        counts_j[label] += 1\n",
    "    # Считаем вектор, как скалярное произведение встречаемости всех цветов\n",
    "    for label in set(counts_i.keys()).union(counts_j.keys()):\n",
    "        kernel_value += counts_i[label] * counts_j[label]\n",
    "    return kernel_value"
   ]
  },
  {
   "cell_type": "code",
   "execution_count": 12,
   "metadata": {},
   "outputs": [
    {
     "name": "stdout",
     "output_type": "stream",
     "text": [
      "weisfeiler lehman с 1 итерациями:\n",
      "              precision    recall  f1-score   support\n",
      "\n",
      "           0       1.00      0.95      0.97        40\n",
      "           1       0.99      1.00      0.99       160\n",
      "\n",
      "    accuracy                           0.99       200\n",
      "   macro avg       0.99      0.97      0.98       200\n",
      "weighted avg       0.99      0.99      0.99       200\n",
      "\n",
      "weisfeiler lehman с 2 итерациями:\n",
      "              precision    recall  f1-score   support\n",
      "\n",
      "           0       1.00      0.95      0.97        40\n",
      "           1       0.99      1.00      0.99       160\n",
      "\n",
      "    accuracy                           0.99       200\n",
      "   macro avg       0.99      0.97      0.98       200\n",
      "weighted avg       0.99      0.99      0.99       200\n",
      "\n",
      "weisfeiler lehman с 3 итерациями:\n",
      "              precision    recall  f1-score   support\n",
      "\n",
      "           0       1.00      0.75      0.86        40\n",
      "           1       0.94      1.00      0.97       160\n",
      "\n",
      "    accuracy                           0.95       200\n",
      "   macro avg       0.97      0.88      0.91       200\n",
      "weighted avg       0.95      0.95      0.95       200\n",
      "\n",
      "weisfeiler lehman с 4 итерациями:\n",
      "              precision    recall  f1-score   support\n",
      "\n",
      "           0       1.00      0.68      0.81        40\n",
      "           1       0.92      1.00      0.96       160\n",
      "\n",
      "    accuracy                           0.94       200\n",
      "   macro avg       0.96      0.84      0.88       200\n",
      "weighted avg       0.94      0.94      0.93       200\n",
      "\n",
      "weisfeiler lehman с 5 итерациями:\n",
      "              precision    recall  f1-score   support\n",
      "\n",
      "           0       1.00      0.65      0.79        40\n",
      "           1       0.92      1.00      0.96       160\n",
      "\n",
      "    accuracy                           0.93       200\n",
      "   macro avg       0.96      0.82      0.87       200\n",
      "weighted avg       0.94      0.93      0.92       200\n",
      "\n"
     ]
    }
   ],
   "source": [
    "param_grid = {'C': [0.1, 1, 10, 100, 1000],  \n",
    "              'gamma': [1, 0.1, 0.01, 0.001, 0.0001], \n",
    "              'kernel': ['rbf', 'precomputed']}  \n",
    "\n",
    "for iteration in range(1, 6):\n",
    "    print(f'weisfeiler lehman с {iteration} итерациями:')\n",
    "    K_train_wl, K_test_wl = weisfeiler_lehman_kernel(train_graphs, test_graphs, iteration)\n",
    "\n",
    "    wl_grid = GridSearchCV(SVC(), param_grid, refit = True) \n",
    "    wl_grid.fit(K_train_wl, y_train)\n",
    "\n",
    "    wl_grid_predictions_with_norm = wl_grid.predict(K_test_wl) \n",
    "    print(classification_report(y_test, wl_grid_predictions_with_norm)) "
   ]
  },
  {
   "cell_type": "markdown",
   "metadata": {},
   "source": [
    "**Вывод:** так как в наборе данных графы не большие - это приводит к тому, что при больших количествах итераций раскраски графов точность падает.\n",
    "Также это связано с тем, что сложнее найти большой изоморфный подграф в другом графе (с большим количеством вершин)"
   ]
  }
 ],
 "metadata": {
  "kernelspec": {
   "display_name": "study",
   "language": "python",
   "name": "python3"
  },
  "language_info": {
   "codemirror_mode": {
    "name": "ipython",
    "version": 3
   },
   "file_extension": ".py",
   "mimetype": "text/x-python",
   "name": "python",
   "nbconvert_exporter": "python",
   "pygments_lexer": "ipython3",
   "version": "3.11.9"
  }
 },
 "nbformat": 4,
 "nbformat_minor": 2
}
